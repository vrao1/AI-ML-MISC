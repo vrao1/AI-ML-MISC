{
 "cells": [
  {
   "cell_type": "code",
   "execution_count": 26,
   "id": "edd536f0",
   "metadata": {},
   "outputs": [
    {
     "name": "stdout",
     "output_type": "stream",
     "text": [
      "200\n"
     ]
    }
   ],
   "source": [
    "import requests\n",
    "\n",
    "URL = \"https://www.grainger.com/\"\n",
    "response = requests.get(url)\n",
    "\n",
    "print(response.status_code)"
   ]
  },
  {
   "cell_type": "code",
   "execution_count": 19,
   "id": "c6b7c81e",
   "metadata": {},
   "outputs": [
    {
     "name": "stdout",
     "output_type": "stream",
     "text": [
      "[]\n"
     ]
    }
   ],
   "source": [
    "#import requests\n",
    "\n",
    "#import pandas as pd\n",
    "\n",
    "URL = \"https://www.grainger.com/category/electrical/conduit-fittings-strut-channel-framing/strut-channel-components/base-posts-for-strut-channel?tv_optin=true&searchQuery=base+plate&searchBar=true\"\n",
    "URL = \"https://www.mcmaster.com/products/base-plates/strut-channel-floor-mounts~/\"\n",
    "\n",
    "URL = \"https://www.grainger.com/product/FAZTEK-Base-Plate-10-Series-5LY36?opr=HPRVP\"\n",
    "#page = requests.get(URL)\n",
    "\n",
    "headers = {'User-Agent': 'Mozilla/5.0 (Windows NT 10.0; Win64; x64) AppleWebKit/537.36 (KHTML, like Gecko) Chrome/132.0.0.0 Safari/537.36'}\n",
    "\n",
    "\n",
    "k = requests.get('https://www.grainger.com/search/electrical/conduit-fittings-strut-channel-framing/strut-channel-components/base-posts-for-strut-channel?tv_optin=true&searchQuery=base+plate')\n",
    "soup=BeautifulSoup(k.content,'lxml')\n",
    "productlist = soup.find_all(\"a\",class_=\"lg2fOf xQbWgv JjvOrC _35Vo1 _2DmSH N5ad3 IuSbF Dcaq0\")\n",
    "print(productlist)\n"
   ]
  },
  {
   "cell_type": "code",
   "execution_count": 21,
   "id": "b6a8db39",
   "metadata": {},
   "outputs": [
    {
     "name": "stdout",
     "output_type": "stream",
     "text": [
      "Collecting AutoScraper\n",
      "  Downloading autoscraper-1.1.14-py3-none-any.whl (10 kB)\n",
      "Collecting bs4\n",
      "  Downloading bs4-0.0.2-py2.py3-none-any.whl (1.2 kB)\n",
      "Requirement already satisfied: lxml in c:\\users\\vinodrao\\anaconda3\\lib\\site-packages (from AutoScraper) (4.6.3)\n",
      "Requirement already satisfied: requests in c:\\users\\vinodrao\\anaconda3\\lib\\site-packages (from AutoScraper) (2.25.1)\n",
      "Requirement already satisfied: beautifulsoup4 in c:\\users\\vinodrao\\anaconda3\\lib\\site-packages (from bs4->AutoScraper) (4.9.3)\n",
      "Requirement already satisfied: soupsieve>1.2 in c:\\users\\vinodrao\\anaconda3\\lib\\site-packages (from beautifulsoup4->bs4->AutoScraper) (2.2.1)\n",
      "Requirement already satisfied: certifi>=2017.4.17 in c:\\users\\vinodrao\\anaconda3\\lib\\site-packages (from requests->AutoScraper) (2020.12.5)\n",
      "Requirement already satisfied: idna<3,>=2.5 in c:\\users\\vinodrao\\anaconda3\\lib\\site-packages (from requests->AutoScraper) (2.10)\n",
      "Requirement already satisfied: chardet<5,>=3.0.2 in c:\\users\\vinodrao\\anaconda3\\lib\\site-packages (from requests->AutoScraper) (4.0.0)\n",
      "Requirement already satisfied: urllib3<1.27,>=1.21.1 in c:\\users\\vinodrao\\anaconda3\\lib\\site-packages (from requests->AutoScraper) (1.26.4)\n",
      "Installing collected packages: bs4, AutoScraper\n",
      "Successfully installed AutoScraper-1.1.14 bs4-0.0.2\n"
     ]
    }
   ],
   "source": [
    "!pip install AutoScraper"
   ]
  },
  {
   "cell_type": "code",
   "execution_count": 24,
   "id": "c91c4e2c",
   "metadata": {},
   "outputs": [],
   "source": [
    "from autoscraper import AutoScraper\n",
    "scraper = AutoScraper()\n",
    "url = 'https://www.grainger.com/category/electrical/conduit-fittings-strut-channel-framing/strut-channel-components/base-posts-for-strut-channel?tv_optin=true&searchQuery=base+plate&searchBar=true'\n",
    "columns = ['Material','Finish','Number of Holes','Hole Diameter','Hole Spacing','Overall Length','Overall Width','Overall Depth','Manufacturer Part Number','Brand']\n",
    "wanted_list = [\"6\",\"9/16 in\",\"1-7/8 in\",\"6 in\",\"4 in\",\"3-1/2 in\",\"V61SQSS\", \"VAST\"]\n",
    "wanted_list = [\"6\",\"9/16 in\"]\n",
    "result = scraper.build(url, wanted_list)"
   ]
  },
  {
   "cell_type": "code",
   "execution_count": 25,
   "id": "38175067",
   "metadata": {},
   "outputs": [
    {
     "name": "stdout",
     "output_type": "stream",
     "text": [
      "[]\n"
     ]
    }
   ],
   "source": [
    "print(result)"
   ]
  },
  {
   "cell_type": "code",
   "execution_count": 14,
   "id": "3b44800a",
   "metadata": {},
   "outputs": [],
   "source": [
    "def scrape_grainger():\n",
    "    url = 'https://www.grainger.com/search/electrical/conduit-fittings-strut-channel-framing/strut-channel-components/base-posts-for-strut-channel?tv_optin=true&searchQuery=base+plate'\n",
    "    response = requests.get(url)\n",
    "    soup=BeautifulSoup(response.text,'html.parser')\n",
    "    productlist = soup.find_all('div',class_='product')\n",
    "    print(soup)\n",
    "    '''\n",
    "    all_products = []\n",
    "    \n",
    "    for product in productlist:\n",
    "        name = product.find('h2').text\n",
    "        description = product.find('p', class_='description').text\n",
    "        price = product.find('span', class_='price').text\n",
    "        manufacturer = product.find('span', class_='manufacturer').text\n",
    "        grainger_number = product.find('span', class_='grainger-number').text    \n",
    "        sku_number = product.find('span', class_='sku-number').text\n",
    "        \n",
    "        all_products.append([name, description ,price,manufacturer, grainger_number, sku_number])\n",
    "    '''    \n",
    "    df = pd.DataFrame(all_products, columns=['Product Name', 'Description' , 'Price', 'Manufacturer', 'Grainger Number', 'SKU Number'])\n",
    "    df.to_csv('grainger_products.csv', index=False)"
   ]
  },
  {
   "cell_type": "code",
   "execution_count": 15,
   "id": "0795353f",
   "metadata": {},
   "outputs": [
    {
     "name": "stdout",
     "output_type": "stream",
     "text": [
      "<!DOCTYPE html>\n",
      "\n",
      "<html lang=\"en\">\n",
      "<head>\n",
      "<meta charset=\"utf-8\"/>\n",
      "<title>Whoops, we couldn't find that.</title>\n",
      "<style>\n",
      "\thtml { background-color: #6B6B6B; color: #474747; text-align: center; font-family: Arial, sans-serif; }\n",
      "\tbody { background-color: #fafafa; width: 900px; height: 600px; margin: 10% auto; border: 1px solid #000; box-shadow: 3px 3px 40px rgba(0,0,0,0.4); }\n",
      "\t.header-text {\n",
      "\t\tmargin-top: 140px;\n",
      "\t\tfont-size: 24px;\n",
      "\t\t}\n",
      "    .main-text {\n",
      "\t\tfont-size: 14px;\n",
      "\t\tmargin: 24px 122px 43px 122px;\n",
      "\t\t}\n",
      "\t.center-bar {\n",
      "\t\tposition: relative;\n",
      "\t\tleft: 90px;\n",
      "\t\twidth: 724px;\n",
      "\t\theight: 144px;\n",
      "\t\tbackground-color:#E4E5E6;\n",
      "\t\t*margin-left: -165px;\n",
      "\t\t-moz-border-radius: 2px;\n",
      "\t\tborder-radius: 2px;\n",
      "\t\t}\n",
      "\t.section-div {\n",
      "\t\tposition: relative;\n",
      "\t\tfloat: left;\n",
      "\t\twidth: 240px;\n",
      "\t\theight: 144px;\n",
      "\t\t}\t\n",
      "\t.oops-icon-container {\n",
      "\t\tfloat: left;\n",
      "\t\theight: 102px;\n",
      "\t\tmargin: 42px 14px 52px 16px;\n",
      "\t\t}\n",
      "\t.oops-text-container {\n",
      "\t\tfloat: left;\n",
      "\t\twidth: 132px;\n",
      "\t\tmargin-top: 42px\n",
      "\t\t}\t\n",
      "\t.oops-text-header {\n",
      "\t\tdisplay: block;\n",
      "\t\ttext-align: left;\n",
      "\t\tfont-size: 14px;\n",
      "\t\tfont-weight: bold;\n",
      "\t}\n",
      "\t.oops-text-content {\n",
      "\t\tdisplay: block;\n",
      "\t\ttext-align: left;\n",
      "\t\tfont-size: 14px;\n",
      "\t\tmargin-top: 5px;\n",
      "\t}\t\n",
      "\t.vertical-line {\n",
      "\t\tbackground-color: #A7A9AC;\n",
      "\t\tfloat: left;\n",
      "\t\tmargin-top: 12px;\n",
      "\t\twidth: 1px;\n",
      "\t\theight: 120px;\t\n",
      "\t\t}\n",
      "\t#previouspage-image, #previouspage-text, #homepage-image, #homepage-text:hover {\n",
      "\t\tcursor: pointer;\n",
      "\t}\t\n",
      "\t.telephone-icon {\n",
      "\t\tbackground-image: url(data:image/png;base64,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);\n",
      "\t\tbackground-repeat: no-repeat;\n",
      "\t\twidth: 56px;\n",
      "\t\theight: 59px;\n",
      "\n",
      "\t}\n",
      "\t.browser-icon {\n",
      "\t\tbackground-image: url(data:image/png;base64,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);\n",
      "\t\tbackground-repeat: no-repeat;\n",
      "\t\twidth: 57px;\n",
      "\t\theight: 62px;\n",
      "\n",
      "\t}\n",
      "\t.graingerbox-icon {\n",
      "\t\tbackground-image: url(data:image/png;base64,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);\n",
      "\t\tbackground-repeat: no-repeat;\n",
      "\t\twidth: 70px;\n",
      "\t\theight: 61px;\n",
      "\n",
      "\t}\n",
      "   </style>\n",
      "</head>\n",
      "<body>\n",
      "<h1 class=\"header-text\">Sorry, we're unable to complete your request</h1>\n",
      "<p class=\"main-text\">We cannot complete your request due to a technical difficulty. You may return to the previous page or<br/> \n",
      "\tgo to the homepage and explore other options. For immediate assistance please call us. </p>\n",
      "<span id=\"js-enabled\">\n",
      "<script language=\"javascript\">\n",
      "\tvar incidentNumber = 'Error Ref: %26%2332%3b%26%2335%3b18%26%2346%3bb124c317%26%2346%3b1738468541%26%2346%3bc63ae7fb';\n",
      "\tdocument.write('<strong>' + decodeURIComponent(incidentNumber) + '</strong>' );\n",
      "\t</script>\n",
      "</span>\n",
      "<noscript>\n",
      "<p>\n",
      "<span id=\"js-disabled\">\n",
      "\tError Ref: %26%2332%3b%26%2335%3b18%26%2346%3bb124c317%26%2346%3b1738468541%26%2346%3bc63ae7fb \n",
      "\t</span>\n",
      "</p></noscript>\n",
      "\n",
      "<div class=\"center-bar\">\n",
      "<div class=\"section-div\">\n",
      "<div class=\"oops-icon-container graingerbox-icon\" id=\"previouspage-image\"></div>\n",
      "<div class=\"oops-text-container\" id=\"previouspage-text\"><span class=\"oops-text-header previouspage-header\">Previous Page</span> <span class=\"oops-text-content\">Return to your previous page</span> </div>\n",
      "</div>\n",
      "<div class=\"vertical-line\" id=\"vertical-line1\"></div>\n",
      "<div class=\"section-div\">\n",
      "<div class=\"oops-icon-container browser-icon\" id=\"homepage-image\"></div>\n",
      "<div class=\"oops-text-container\" id=\"homepage-text\"><span class=\"oops-text-header homepage-header\">Homepage</span> <span class=\"oops-text-content\">Return to Grainger homepage</span> </div>\n",
      "</div>\n",
      "<div class=\"vertical-line\" id=\"vertical-line2\"></div>\n",
      "<div class=\"section-div\">\n",
      "<div class=\"oops-icon-container telephone-icon\"></div>\n",
      "<div class=\"oops-text-container\"><span class=\"oops-text-header\">Call Us</span> <span class=\"oops-text-content\">1-800-GRAINGER (1-800-472-4643)</span></div>\n",
      "</div>\n",
      "</div>\n",
      "<h3> </h3>\n",
      "<a href=\"/\"></a>\n",
      "<!-- Adobe tagging -->\n",
      "<script src=\"/js/grainger/adobeErrorPageAnalytics.js\" type=\"text/javascript\"></script>\n",
      "<script type=\"text/javascript\">\n",
      "    // ignore demandbase\n",
      "    var noDemandbase = true;\n",
      "    AdobeErrorPageAnalyticsHelper.appendAdobeJsScript();\n",
      "</script>\n",
      "<!-- End Adobe tagging -->\n",
      "<script type=\"text/javascript\">\n",
      "\twindow.onload = function() {\n",
      "\t\t\n",
      "\t\tif(document.addEventListener) {\n",
      "\t\t\tdocument.getElementById('previouspage-image').addEventListener('click', function() {\n",
      "\t\t\t\twindow.history.back();\n",
      "\t\t\t});\n",
      "\t\t\tdocument.getElementById('previouspage-text').addEventListener('click', function() {\n",
      "\t\t\t\twindow.history.back();\n",
      "\t\t\t});\n",
      "\t\t\tdocument.getElementById('homepage-image').addEventListener('click', function() {\n",
      "\t\t\t\twindow.location.href = 'http://'+window.location.host;\n",
      "\t\t\t});\n",
      "\t\t\tdocument.getElementById('homepage-text').addEventListener('click', function() {\n",
      "\t\t\t\twindow.location.href = 'http://'+window.location.host;\n",
      "\t\t\t});\n",
      "\t\t}\n",
      "\t\telse {  // for IE 7, 8\n",
      "\t\t\tdocument.getElementById('previouspage-image').attachEvent('onclick', function() {\n",
      "\t\t\t\twindow.history.back();\n",
      "\t\t\t});\n",
      "\t\t\tdocument.getElementById('previouspage-text').attachEvent('onclick', function() {\n",
      "\t\t\t\twindow.history.back();\n",
      "\t\t\t});\n",
      "\t\t\tdocument.getElementById('homepage-image').attachEvent('onclick', function() {\n",
      "\t\t\t\twindow.location.href = 'http://'+window.location.host;\n",
      "\t\t\t});\n",
      "\t\t\tdocument.getElementById('homepage-text').attachEvent('onclick', function() {\n",
      "\t\t\t\twindow.location.href = 'http://'+window.location.host;\n",
      "\t\t\t});\n",
      "\t\t}\n",
      "\t}\n",
      "\t\n",
      "\tAdobeErrorPageAnalyticsHelper.setErrorEvent();\n",
      "\t_satellite.pageBottom();\n",
      "</script>\n",
      "</body>\n",
      "</html>\n"
     ]
    },
    {
     "ename": "NameError",
     "evalue": "name 'all_products' is not defined",
     "output_type": "error",
     "traceback": [
      "\u001b[1;31m---------------------------------------------------------------------------\u001b[0m",
      "\u001b[1;31mNameError\u001b[0m                                 Traceback (most recent call last)",
      "\u001b[1;32m<ipython-input-15-5b3a30b4e124>\u001b[0m in \u001b[0;36m<module>\u001b[1;34m\u001b[0m\n\u001b[1;32m----> 1\u001b[1;33m \u001b[0mscrape_grainger\u001b[0m\u001b[1;33m(\u001b[0m\u001b[1;33m)\u001b[0m\u001b[1;33m\u001b[0m\u001b[1;33m\u001b[0m\u001b[0m\n\u001b[0m",
      "\u001b[1;32m<ipython-input-14-fd57146cfa71>\u001b[0m in \u001b[0;36mscrape_grainger\u001b[1;34m()\u001b[0m\n\u001b[0;32m     18\u001b[0m         \u001b[0mall_products\u001b[0m\u001b[1;33m.\u001b[0m\u001b[0mappend\u001b[0m\u001b[1;33m(\u001b[0m\u001b[1;33m[\u001b[0m\u001b[0mname\u001b[0m\u001b[1;33m,\u001b[0m \u001b[0mdescription\u001b[0m \u001b[1;33m,\u001b[0m\u001b[0mprice\u001b[0m\u001b[1;33m,\u001b[0m\u001b[0mmanufacturer\u001b[0m\u001b[1;33m,\u001b[0m \u001b[0mgrainger_number\u001b[0m\u001b[1;33m,\u001b[0m \u001b[0msku_number\u001b[0m\u001b[1;33m]\u001b[0m\u001b[1;33m)\u001b[0m\u001b[1;33m\u001b[0m\u001b[1;33m\u001b[0m\u001b[0m\n\u001b[0;32m     19\u001b[0m     '''    \n\u001b[1;32m---> 20\u001b[1;33m     \u001b[0mdf\u001b[0m \u001b[1;33m=\u001b[0m \u001b[0mpd\u001b[0m\u001b[1;33m.\u001b[0m\u001b[0mDataFrame\u001b[0m\u001b[1;33m(\u001b[0m\u001b[0mall_products\u001b[0m\u001b[1;33m,\u001b[0m \u001b[0mcolumns\u001b[0m\u001b[1;33m=\u001b[0m\u001b[1;33m[\u001b[0m\u001b[1;34m'Product Name'\u001b[0m\u001b[1;33m,\u001b[0m \u001b[1;34m'Description'\u001b[0m \u001b[1;33m,\u001b[0m \u001b[1;34m'Price'\u001b[0m\u001b[1;33m,\u001b[0m \u001b[1;34m'Manufacturer'\u001b[0m\u001b[1;33m,\u001b[0m \u001b[1;34m'Grainger Number'\u001b[0m\u001b[1;33m,\u001b[0m \u001b[1;34m'SKU Number'\u001b[0m\u001b[1;33m]\u001b[0m\u001b[1;33m)\u001b[0m\u001b[1;33m\u001b[0m\u001b[1;33m\u001b[0m\u001b[0m\n\u001b[0m\u001b[0;32m     21\u001b[0m     \u001b[0mdf\u001b[0m\u001b[1;33m.\u001b[0m\u001b[0mto_csv\u001b[0m\u001b[1;33m(\u001b[0m\u001b[1;34m'grainger_products.csv'\u001b[0m\u001b[1;33m,\u001b[0m \u001b[0mindex\u001b[0m\u001b[1;33m=\u001b[0m\u001b[1;32mFalse\u001b[0m\u001b[1;33m)\u001b[0m\u001b[1;33m\u001b[0m\u001b[1;33m\u001b[0m\u001b[0m\n",
      "\u001b[1;31mNameError\u001b[0m: name 'all_products' is not defined"
     ]
    }
   ],
   "source": [
    "scrape_grainger()"
   ]
  },
  {
   "cell_type": "code",
   "execution_count": null,
   "id": "24d41f8a",
   "metadata": {},
   "outputs": [],
   "source": []
  }
 ],
 "metadata": {
  "kernelspec": {
   "display_name": "Python 3",
   "language": "python",
   "name": "python3"
  },
  "language_info": {
   "codemirror_mode": {
    "name": "ipython",
    "version": 3
   },
   "file_extension": ".py",
   "mimetype": "text/x-python",
   "name": "python",
   "nbconvert_exporter": "python",
   "pygments_lexer": "ipython3",
   "version": "3.8.8"
  }
 },
 "nbformat": 4,
 "nbformat_minor": 5
}
